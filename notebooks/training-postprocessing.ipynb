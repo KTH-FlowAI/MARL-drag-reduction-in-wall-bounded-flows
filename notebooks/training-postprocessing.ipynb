{
 "cells": [
  {
   "cell_type": "code",
   "execution_count": null,
   "metadata": {},
   "outputs": [],
   "source": [
    "# Module imports\n",
    "import numpy as np\n",
    "from matplotlib import pyplot as plt\n",
    "from matplotlib import cm\n",
    "\n",
    "import sys\n",
    "import re\n",
    "import os\n",
    "\n",
    "from postprocessingutils import eval_stats_reader, running_mean"
   ]
  },
  {
   "cell_type": "code",
   "execution_count": null,
   "metadata": {},
   "outputs": [],
   "source": [
    "plt.rc('text', usetex=True)\n",
    "plt.rc('font', family='serif')\n",
    "plt.rc('axes', labelsize=28)\n",
    "plt.rc('font', size=35)\n",
    "plt.rc('legend', fontsize=22)               # Make the legend/label fonts \n",
    "plt.rc('xtick', labelsize=23)               # a little smaller\n",
    "plt.rc('ytick', labelsize=23)\n",
    "\n",
    "mrk_size = 12"
   ]
  },
  {
   "cell_type": "code",
   "execution_count": null,
   "metadata": {},
   "outputs": [],
   "source": [
    "# Parameters\n",
    "nx = 64#16\n",
    "ny = 65\n",
    "nz = 64#16\n",
    "retau = 180\n",
    "Re_cl = 2100\n",
    "nu = 1/Re_cl\n",
    "\n",
    "baseline_dudy_dict = {\"180_16x65x16\"   : 3.7398798426242075,\n",
    "                      \"180_32x33x32\"   : 3.909412638928125,\n",
    "                      \"180_32x65x32\"   : 4.325313533321045,\n",
    "                      \"180_64x65x64\"   : 3.82829465265046,\n",
    "                      \"180_128x65x128\" : 3.82829465265046}\n",
    "baseline_dudy = baseline_dudy_dict[f\"{int(retau)}_\" + \\\n",
    "                             f\"{nx}x{ny}x{nz}\"]\n",
    "\n",
    "u_tau = np.sqrt(nu*baseline_dudy)\n",
    "Re_tau = 2*u_tau/nu\n",
    "tstar = nu/u_tau**2"
   ]
  },
  {
   "cell_type": "code",
   "execution_count": null,
   "metadata": {},
   "outputs": [],
   "source": [
    "# Experiment\n",
    "ex = {\"timestamp\" : 1672737751, \"nb_env\" : 1, \"nb_episodes\" : 0,\n",
    "      \"dt\" : 0.007, \"act_freq\": 80//4, \"nb_interactions\" : 3000, \"n_agents\" : 16, \n",
    "      \"resolution\" : 16, \"ctrl_amp\" : 0.04285714285714286,\n",
    "      \"ckpt_step\" : 6144000, \"nb_init\" : 1,\n",
    "      \"description\" : r\"DDPG MinChan, scaled_inputs with u_\\tau\"}"
   ]
  },
  {
   "cell_type": "code",
   "execution_count": null,
   "metadata": {},
   "outputs": [],
   "source": [
    "## Find the latest episode\n",
    "from os import walk\n",
    "\n",
    "main_path = f\"../runs/{ex['timestamp']}/env_000\"\n",
    "main_regex = re.compile(\"main_\")\n",
    "_, _, filenames = next(walk(main_path))\n",
    "nb_eps = 0\n",
    "for f in filenames:\n",
    "    main_check = main_regex.search(f)\n",
    "    if main_check is not None:\n",
    "        nb_eps = np.maximum(int(f.split('.')[0].split('_')[1]),nb_eps)\n",
    "ex[\"nb_episodes\"] = nb_eps"
   ]
  },
  {
   "cell_type": "code",
   "execution_count": null,
   "metadata": {},
   "outputs": [],
   "source": [
    "import os\n",
    "\n",
    "if os.path.isfile(f\"../runs/{ex['timestamp']}/re_hist.npz\"):\n",
    "    with np.load(f\"../runs/{ex['timestamp']}/re_hist.npz\",allow_pickle=True) as f:\n",
    "        re_hist = f['re_hist']\n",
    "    if len(re_hist) == ex[\"nb_episodes\"]-1:\n",
    "        loading = False\n",
    "    else:\n",
    "        loading = True\n",
    "else:\n",
    "    loading = True\n",
    "\n",
    "if loading:\n",
    "    ## Reading text file\n",
    "    for i_ep in np.arange(1,ex[\"nb_episodes\"]):\n",
    "        print(i_ep)\n",
    "        main_file = f\"../../../runs/{ex['timestamp']}/env_000/main_{i_ep}.out\"\n",
    "        re_hist_ = eval_stats_reader(ex,main_file)\n",
    "        if i_ep == 1:\n",
    "            re_hist = re_hist_\n",
    "        else:\n",
    "            re_hist = np.concatenate((re_hist,re_hist_),axis=0)\n",
    "\n",
    "    np.savez(f\"../runs/{ex['timestamp']}/env_000/re_hist.npz\",re_hist=re_hist)\n",
    "else:\n",
    "    print(\"Using saved summary\")\n",
    "\n",
    "# ## Post-process\n",
    "re_epavg = np.array([np.mean(re_hist[i_ep,1]*2) for i_ep in range(len(re_hist))])\n",
    "rmean = running_mean(np.concatenate((Re_tau*np.ones((9,)),re_epavg)),N=10)"
   ]
  },
  {
   "cell_type": "code",
   "execution_count": null,
   "metadata": {},
   "outputs": [],
   "source": [
    "%matplotlib widget\n",
    "\n",
    "## Setup figure\n",
    "cmap = cm.get_cmap('viridis')\n",
    "ixys = 512\n",
    "fig_rep, ax_rep = plt.subplots(2,1,figsize=[6.4,8.4])\n",
    "ax_rep[0].set(ylabel=r'$Re_{\\tau}$',xlabel=r\"$t^+$\")\n",
    "ax_rep[1].set(ylabel=r'$Re_{\\tau}$',xlabel=\"Episode\")\n",
    "\n",
    "cm_value = np.linspace(0,1,ex[\"nb_episodes\"])**(1/2)\n",
    "\n",
    "## Plotting\n",
    "for i_ep in range(len(re_hist)):\n",
    "    p_re = ax_rep[0].plot((re_hist[i_ep,0]-np.floor(re_hist[i_ep,0,0]))/tstar,re_hist[i_ep,1]*2,\n",
    "                          color=cmap(cm_value[-(i_ep+1)]))#, linewidth=2)\n",
    "\n",
    "# Episode average\n",
    "p_re = ax_rep[1].plot(re_epavg,linewidth=1,alpha=0.8)\n",
    "# Running mean\n",
    "p_re = ax_rep[1].plot(np.linspace(0,len(re_hist),len(rmean)),rmean,'r')\n",
    "\n",
    "ax_rep[0].set_ylim(top=210)\n",
    "fig_rep.tight_layout()"
   ]
  }
 ],
 "metadata": {
  "kernelspec": {
   "display_name": "sb3",
   "language": "python",
   "name": "python3"
  },
  "language_info": {
   "codemirror_mode": {
    "name": "ipython",
    "version": 3
   },
   "file_extension": ".py",
   "mimetype": "text/x-python",
   "name": "python",
   "nbconvert_exporter": "python",
   "pygments_lexer": "ipython3",
   "version": "3.7.11"
  },
  "orig_nbformat": 4,
  "vscode": {
   "interpreter": {
    "hash": "5cb8b7b33d68d8a234b5ffe3eb7e3dda53d3acc89541338a550d63ac580deb4c"
   }
  }
 },
 "nbformat": 4,
 "nbformat_minor": 2
}
